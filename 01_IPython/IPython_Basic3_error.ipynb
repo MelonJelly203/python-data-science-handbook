{
 "cells": [
  {
   "cell_type": "markdown",
   "metadata": {},
   "source": [
    "# Basic3: 에러와 디버깅\n",
    "- (1) 예외 제어: %xmode\n",
    "- (2) 디버깅: %debug, %pdb, %ipdb\n",
    "- (3) 시간측정: %time, %timeit, %%time, %%timeit\n",
    "- (4) 프로파일링: %prun, %lprun\n",
    "- (5) 메모리 사용 프로파일링: %memit, %mprun\n",
    "\n"
   ]
  },
  {
   "cell_type": "markdown",
   "metadata": {},
   "source": [
    "### (1) 예외 제어: %xmode"
   ]
  },
  {
   "cell_type": "code",
   "execution_count": 1,
   "metadata": {},
   "outputs": [],
   "source": [
    "def func1(a,b):\n",
    "    return a/b\n",
    "\n",
    "def func2(x):\n",
    "    a = x\n",
    "    b = x-1\n",
    "    return func1(a/b)"
   ]
  },
  {
   "cell_type": "code",
   "execution_count": 2,
   "metadata": {},
   "outputs": [
    {
     "ename": "ZeroDivisionError",
     "evalue": "division by zero",
     "output_type": "error",
     "traceback": [
      "\u001b[1;31m---------------------------------------------------------------------------\u001b[0m",
      "\u001b[1;31mZeroDivisionError\u001b[0m                         Traceback (most recent call last)",
      "Cell \u001b[1;32mIn[2], line 1\u001b[0m\n\u001b[1;32m----> 1\u001b[0m \u001b[43mfunc2\u001b[49m\u001b[43m(\u001b[49m\u001b[38;5;241;43m1\u001b[39;49m\u001b[43m)\u001b[49m\n",
      "Cell \u001b[1;32mIn[1], line 7\u001b[0m, in \u001b[0;36mfunc2\u001b[1;34m(x)\u001b[0m\n\u001b[0;32m      5\u001b[0m a \u001b[38;5;241m=\u001b[39m x\n\u001b[0;32m      6\u001b[0m b \u001b[38;5;241m=\u001b[39m x\u001b[38;5;241m-\u001b[39m\u001b[38;5;241m1\u001b[39m\n\u001b[1;32m----> 7\u001b[0m \u001b[38;5;28;01mreturn\u001b[39;00m func1(\u001b[43ma\u001b[49m\u001b[38;5;241;43m/\u001b[39;49m\u001b[43mb\u001b[49m)\n",
      "\u001b[1;31mZeroDivisionError\u001b[0m: division by zero"
     ]
    }
   ],
   "source": [
    "func2(1)"
   ]
  },
  {
   "cell_type": "code",
   "execution_count": 3,
   "metadata": {},
   "outputs": [
    {
     "name": "stdout",
     "output_type": "stream",
     "text": [
      "Exception reporting mode: Plain\n"
     ]
    }
   ],
   "source": [
    "#간단한 설명\n",
    "%xmode Plain"
   ]
  },
  {
   "cell_type": "code",
   "execution_count": 4,
   "metadata": {},
   "outputs": [
    {
     "ename": "ZeroDivisionError",
     "evalue": "division by zero",
     "output_type": "error",
     "traceback": [
      "Traceback \u001b[1;36m(most recent call last)\u001b[0m:\n",
      "\u001b[0m  Cell \u001b[0;32mIn[4], line 1\u001b[0m\n    func2(1)\u001b[0m\n",
      "\u001b[1;36m  Cell \u001b[1;32mIn[1], line 7\u001b[1;36m in \u001b[1;35mfunc2\u001b[1;36m\n\u001b[1;33m    return func1(a/b)\u001b[1;36m\n",
      "\u001b[1;31mZeroDivisionError\u001b[0m\u001b[1;31m:\u001b[0m division by zero\n"
     ]
    }
   ],
   "source": [
    "func2(1)"
   ]
  },
  {
   "cell_type": "code",
   "execution_count": 5,
   "metadata": {},
   "outputs": [
    {
     "name": "stdout",
     "output_type": "stream",
     "text": [
      "Exception reporting mode: Context\n"
     ]
    }
   ],
   "source": [
    "# 원래의 설명\n",
    "%xmode Context"
   ]
  },
  {
   "cell_type": "code",
   "execution_count": 6,
   "metadata": {},
   "outputs": [
    {
     "ename": "ZeroDivisionError",
     "evalue": "division by zero",
     "output_type": "error",
     "traceback": [
      "\u001b[1;31m---------------------------------------------------------------------------\u001b[0m",
      "\u001b[1;31mZeroDivisionError\u001b[0m                         Traceback (most recent call last)",
      "Cell \u001b[1;32mIn[6], line 1\u001b[0m\n\u001b[1;32m----> 1\u001b[0m \u001b[43mfunc2\u001b[49m\u001b[43m(\u001b[49m\u001b[38;5;241;43m1\u001b[39;49m\u001b[43m)\u001b[49m\n",
      "Cell \u001b[1;32mIn[1], line 7\u001b[0m, in \u001b[0;36mfunc2\u001b[1;34m(x)\u001b[0m\n\u001b[0;32m      5\u001b[0m a \u001b[38;5;241m=\u001b[39m x\n\u001b[0;32m      6\u001b[0m b \u001b[38;5;241m=\u001b[39m x\u001b[38;5;241m-\u001b[39m\u001b[38;5;241m1\u001b[39m\n\u001b[1;32m----> 7\u001b[0m \u001b[38;5;28;01mreturn\u001b[39;00m func1(\u001b[43ma\u001b[49m\u001b[38;5;241;43m/\u001b[39;49m\u001b[43mb\u001b[49m)\n",
      "\u001b[1;31mZeroDivisionError\u001b[0m: division by zero"
     ]
    }
   ],
   "source": [
    "func2(1)"
   ]
  },
  {
   "cell_type": "code",
   "execution_count": 3,
   "metadata": {},
   "outputs": [
    {
     "name": "stdout",
     "output_type": "stream",
     "text": [
      "Exception reporting mode: Verbose\n"
     ]
    }
   ],
   "source": [
    "# 호출함수의 인수를 포함한 추가적 정보보\n",
    "%xmode Verbose"
   ]
  },
  {
   "cell_type": "code",
   "execution_count": 4,
   "metadata": {},
   "outputs": [
    {
     "ename": "ZeroDivisionError",
     "evalue": "division by zero",
     "output_type": "error",
     "traceback": [
      "\u001b[1;31m---------------------------------------------------------------------------\u001b[0m",
      "\u001b[1;31mZeroDivisionError\u001b[0m                         Traceback (most recent call last)",
      "Cell \u001b[1;32mIn[4], line 1\u001b[0m\n\u001b[1;32m----> 1\u001b[0m \u001b[43mfunc2\u001b[49m\u001b[43m(\u001b[49m\u001b[38;5;241;43m1\u001b[39;49m\u001b[43m)\u001b[49m\n",
      "Cell \u001b[1;32mIn[1], line 7\u001b[0m, in \u001b[0;36mfunc2\u001b[1;34m(x=1)\u001b[0m\n\u001b[0;32m      5\u001b[0m a \u001b[38;5;241m=\u001b[39m x\n\u001b[0;32m      6\u001b[0m b \u001b[38;5;241m=\u001b[39m x\u001b[38;5;241m-\u001b[39m\u001b[38;5;241m1\u001b[39m\n\u001b[1;32m----> 7\u001b[0m \u001b[38;5;28;01mreturn\u001b[39;00m func1(\u001b[43ma\u001b[49m\u001b[38;5;241;43m/\u001b[39;49m\u001b[43mb\u001b[49m)\n        a \u001b[1;34m= 1\u001b[0m\u001b[1;34m\n        \u001b[0mb \u001b[1;34m= 0\u001b[0m\n",
      "\u001b[1;31mZeroDivisionError\u001b[0m: division by zero"
     ]
    }
   ],
   "source": [
    "func2(1)"
   ]
  },
  {
   "cell_type": "markdown",
   "metadata": {},
   "source": [
    "### (2) 디버깅: %debug, %pdb, %ipdb"
   ]
  },
  {
   "cell_type": "markdown",
   "metadata": {},
   "source": [
    "콘다 가상환경에 패키지 설치하는 방법\n",
    "- anaconda prompt 실행 > conda env list 입력하여 존재하는 가상환경 확인 > activate (가상환경 이름) (가상환경 활성화)\n",
    "- conda list (설치된 패키지 확인) > conda install -n (가상환경 이름) (패키지1) (패키지2).... (패키지 설치)\n",
    "- https://cocobi.tistory.com/160"
   ]
  },
  {
   "cell_type": "markdown",
   "metadata": {},
   "source": [
    "%debug가 통하지 않을 시, 경로 설정이 제대로 되지 않은 경우임\n",
    "- 커맨드 창 (ctrl shift p)을 열어 select interpreter를 선택 -> 현재 사용중인 파이썬 환경을 선택해준 뒤 %debug를 실행해본다"
   ]
  },
  {
   "cell_type": "code",
   "execution_count": null,
   "metadata": {},
   "outputs": [
    {
     "name": "stdout",
     "output_type": "stream",
     "text": [
      "> \u001b[1;32mc:\\users\\chels\\appdata\\local\\temp\\ipykernel_24564\\664284626.py\u001b[0m(4)\u001b[0;36mdivide\u001b[1;34m()\u001b[0m\n",
      "\n"
     ]
    }
   ],
   "source": [
    "import pdb\n",
    " \n",
    "def divide(a, b):\n",
    "    pdb.set_trace()  # 실행 중단점 설정\n",
    "    return a / b\n",
    " \n",
    "result = divide(10, 0)"
   ]
  },
  {
   "cell_type": "code",
   "execution_count": 3,
   "metadata": {},
   "outputs": [
    {
     "name": "stdout",
     "output_type": "stream",
     "text": [
      "False\n"
     ]
    }
   ],
   "source": [
    "import sys\n",
    "print(sys.stdin.isatty())"
   ]
  },
  {
   "cell_type": "code",
   "execution_count": 2,
   "metadata": {},
   "outputs": [],
   "source": [
    "import sys\n",
    "import os\n",
    "\n",
    "# 터미널 입력으로 복구\n",
    "sys.stdin = open('/dev/tty') if os.name != 'nt' else open('CON', 'r')\n",
    "sys.stdout = open('/dev/tty') if os.name != 'nt' else open('CON', 'w')"
   ]
  },
  {
   "cell_type": "code",
   "execution_count": null,
   "metadata": {},
   "outputs": [
    {
     "name": "stdout",
     "output_type": "stream",
     "text": [
      "> \u001b[1;32mc:\\users\\chels\\appdata\\local\\temp\\ipykernel_7864\\664284626.py\u001b[0m(4)\u001b[0;36mdivide\u001b[1;34m()\u001b[0m\n",
      "\n"
     ]
    }
   ],
   "source": [
    "import pdb\n",
    " \n",
    "def divide(a, b):\n",
    "    pdb.set_trace()  # 실행 중단점 설정\n",
    "    return a / b\n",
    " \n",
    "result = divide(10, 0)"
   ]
  },
  {
   "cell_type": "code",
   "execution_count": 2,
   "metadata": {},
   "outputs": [
    {
     "name": "stdout",
     "output_type": "stream",
     "text": [
      "> \u001b[1;32mc:\\users\\chels\\appdata\\local\\temp\\ipykernel_32672\\2483606204.py\u001b[0m(1)\u001b[0;36m<module>\u001b[1;34m()\u001b[0m\n",
      "\n"
     ]
    }
   ],
   "source": [
    "%debug"
   ]
  },
  {
   "cell_type": "code",
   "execution_count": 5,
   "metadata": {},
   "outputs": [
    {
     "name": "stdout",
     "output_type": "stream",
     "text": [
      "\u001b[1;31mDocstring:\u001b[0m\n",
      "::\n",
      "\n",
      "  %debug [--breakpoint FILE:LINE] [statement ...]\n",
      "\n",
      "Activate the interactive debugger.\n",
      "\n",
      "This magic command support two ways of activating debugger.\n",
      "One is to activate debugger before executing code.  This way, you\n",
      "can set a break point, to step through the code from the point.\n",
      "You can use this mode by giving statements to execute and optionally\n",
      "a breakpoint.\n",
      "\n",
      "The other one is to activate debugger in post-mortem mode.  You can\n",
      "activate this mode simply running %debug without any argument.\n",
      "If an exception has just occurred, this lets you inspect its stack\n",
      "frames interactively.  Note that this will always work only on the last\n",
      "traceback that occurred, so you must call this quickly after an\n",
      "exception that you wish to inspect has fired, because if another one\n",
      "occurs, it clobbers the previous one.\n",
      "\n",
      "If you want IPython to automatically do this on every exception, see\n",
      "the %pdb magic for more details.\n",
      "\n",
      ".. versionchanged:: 7.3\n",
      "    When running code, user variables are no longer expanded,\n",
      "    the magic line is always left unmodified.\n",
      "\n",
      "positional arguments:\n",
      "  statement             Code to run in debugger. You can omit this in cell\n",
      "                        magic mode.\n",
      "\n",
      "options:\n",
      "  --breakpoint <FILE:LINE>, -b <FILE:LINE>\n",
      "                        Set break point at LINE in FILE.\n",
      "\u001b[1;31mFile:\u001b[0m      c:\\users\\chels\\anaconda3\\envs\\emerald_city\\lib\\site-packages\\ipython\\core\\magics\\execution.py"
     ]
    }
   ],
   "source": [
    "%debug?"
   ]
  },
  {
   "cell_type": "code",
   "execution_count": 6,
   "metadata": {},
   "outputs": [
    {
     "name": "stdout",
     "output_type": "stream",
     "text": [
      "\u001b[1;31mDocstring:\u001b[0m\n",
      "Control the automatic calling of the pdb interactive debugger.\n",
      "\n",
      "Call as '%pdb on', '%pdb 1', '%pdb off' or '%pdb 0'. If called without\n",
      "argument it works as a toggle.\n",
      "\n",
      "When an exception is triggered, IPython can optionally call the\n",
      "interactive pdb debugger after the traceback printout. %pdb toggles\n",
      "this feature on and off.\n",
      "\n",
      "The initial state of this feature is set in your configuration\n",
      "file (the option is ``InteractiveShell.pdb``).\n",
      "\n",
      "If you want to just activate the debugger AFTER an exception has fired,\n",
      "without having to type '%pdb on' and rerunning your code, you can use\n",
      "the %debug magic.\n",
      "\u001b[1;31mFile:\u001b[0m      c:\\users\\chels\\anaconda3\\envs\\emerald_city\\lib\\site-packages\\ipython\\core\\magics\\execution.py"
     ]
    }
   ],
   "source": [
    "%pdb?"
   ]
  },
  {
   "cell_type": "code",
   "execution_count": 7,
   "metadata": {},
   "outputs": [
    {
     "name": "stdout",
     "output_type": "stream",
     "text": [
      "Automatic pdb calling has been turned ON\n"
     ]
    }
   ],
   "source": [
    "%pdb on"
   ]
  },
  {
   "cell_type": "code",
   "execution_count": 1,
   "metadata": {},
   "outputs": [
    {
     "ename": "ZeroDivisionError",
     "evalue": "division by zero",
     "output_type": "error",
     "traceback": [
      "\u001b[1;31m---------------------------------------------------------------------------\u001b[0m",
      "\u001b[1;31mZeroDivisionError\u001b[0m                         Traceback (most recent call last)",
      "Cell \u001b[1;32mIn[1], line 9\u001b[0m\n\u001b[0;32m      6\u001b[0m     b \u001b[38;5;241m=\u001b[39m x\u001b[38;5;241m-\u001b[39m\u001b[38;5;241m1\u001b[39m\n\u001b[0;32m      7\u001b[0m     \u001b[38;5;28;01mreturn\u001b[39;00m func1(a\u001b[38;5;241m/\u001b[39mb)\n\u001b[1;32m----> 9\u001b[0m \u001b[43mfunc2\u001b[49m\u001b[43m(\u001b[49m\u001b[38;5;241;43m1\u001b[39;49m\u001b[43m)\u001b[49m\n",
      "Cell \u001b[1;32mIn[1], line 7\u001b[0m, in \u001b[0;36mfunc2\u001b[1;34m(x)\u001b[0m\n\u001b[0;32m      5\u001b[0m a \u001b[38;5;241m=\u001b[39m x\n\u001b[0;32m      6\u001b[0m b \u001b[38;5;241m=\u001b[39m x\u001b[38;5;241m-\u001b[39m\u001b[38;5;241m1\u001b[39m\n\u001b[1;32m----> 7\u001b[0m \u001b[38;5;28;01mreturn\u001b[39;00m func1(\u001b[43ma\u001b[49m\u001b[38;5;241;43m/\u001b[39;49m\u001b[43mb\u001b[49m)\n",
      "\u001b[1;31mZeroDivisionError\u001b[0m: division by zero"
     ]
    }
   ],
   "source": [
    "def func1(a,b):\n",
    "    return a/b\n",
    "\n",
    "def func2(x):\n",
    "    a = x\n",
    "    b = x-1\n",
    "    return func1(a/b)\n",
    "\n",
    "func2(1)"
   ]
  },
  {
   "cell_type": "markdown",
   "metadata": {},
   "source": [
    "### (3) 시간측정: %time, %timeit, %%time, %%timeit"
   ]
  },
  {
   "cell_type": "code",
   "execution_count": 1,
   "metadata": {},
   "outputs": [
    {
     "name": "stdout",
     "output_type": "stream",
     "text": [
      "915 ns ± 93.3 ns per loop (mean ± std. dev. of 7 runs, 1,000,000 loops each)\n"
     ]
    }
   ],
   "source": [
    "# 코드 조각 반복 실행하여 시간 측정\n",
    "%timeit sum(range(100))"
   ]
  },
  {
   "cell_type": "code",
   "execution_count": 2,
   "metadata": {},
   "outputs": [
    {
     "name": "stdout",
     "output_type": "stream",
     "text": [
      "243 ms ± 8.51 ms per loop (mean ± std. dev. of 7 runs, 1 loop each)\n"
     ]
    }
   ],
   "source": [
    "# 셀 반복 실행하여 시간 측정\n",
    "%%timeit\n",
    "total = 0\n",
    "for i in range(1000):\n",
    "    for j in range(1000):\n",
    "        total += i * (-1) **j"
   ]
  },
  {
   "cell_type": "code",
   "execution_count": 3,
   "metadata": {},
   "outputs": [
    {
     "name": "stdout",
     "output_type": "stream",
     "text": [
      "2.03 ms ± 155 μs per loop (mean ± std. dev. of 7 runs, 100 loops each)\n"
     ]
    }
   ],
   "source": [
    "# 반복 작업 중 왜곡 발생하는 경우도 있음 \n",
    "# iteration 과정에서 한번 정렬된 목록을 재정렬할 때 시간이 적게 소모됨 >> 평균치를 냈을 때 훨씬 빠른 것처럼 결과가 나온다\n",
    "\n",
    "import random\n",
    "L = [random.random() for i in range(100000)]\n",
    "%timeit L.sort()"
   ]
  },
  {
   "cell_type": "code",
   "execution_count": null,
   "metadata": {},
   "outputs": [
    {
     "name": "stdout",
     "output_type": "stream",
     "text": [
      "정렬되지 않은 리스트를 정렬\n",
      "CPU times: total: 46.9 ms\n",
      "Wall time: 70.8 ms\n"
     ]
    }
   ],
   "source": [
    "# 위와 같은 경우 %time이 더 정확하게 시간 측정을 할 수 있다\n",
    "# %time으로 측정한 %timeit으로 측정한 시간보다 훨씬 길다 (시간 측정에 영향을 줄 수 있는 미사용 파이썬 객체를 정리하는 작업을 못하게 막음)\n",
    "L = [random.random() for i in range(100000)]\n",
    "print(\"정렬되지 않은 리스트를 정렬\")\n",
    "%time L.sort()"
   ]
  },
  {
   "cell_type": "code",
   "execution_count": 10,
   "metadata": {},
   "outputs": [
    {
     "name": "stdout",
     "output_type": "stream",
     "text": [
      "이미 정렬된 리스트를 정렬\n",
      "CPU times: total: 0 ns\n",
      "Wall time: 4.07 ms\n"
     ]
    }
   ],
   "source": [
    "# 이미 L이 정렬된 상태에서 재정렬하니 거의 시간이 들지 않음 (왜곡이 발생하는 이유가 된다다)\n",
    "print(\"이미 정렬된 리스트를 정렬\")\n",
    "%time L.sort()"
   ]
  },
  {
   "cell_type": "code",
   "execution_count": null,
   "metadata": {},
   "outputs": [
    {
     "name": "stdout",
     "output_type": "stream",
     "text": [
      "CPU times: total: 391 ms\n",
      "Wall time: 405 ms\n"
     ]
    }
   ],
   "source": [
    "%%time\n",
    "total = 0 # %%time 셀 매직 # %%time은 반드시 셀의 맨 위 쪽에 단독으로 나와 있어야 인식됨...\n",
    "for i in range(1000):\n",
    "    for j in range(1000):\n",
    "        total += i * (-1) **j "
   ]
  },
  {
   "cell_type": "markdown",
   "metadata": {},
   "source": [
    "### (4) 프로파일링: %prun, %lprun\n",
    "- 전체 스크립트 프로파일링: %prun\n",
    "- 라인 단위 프로파일링: %lprun"
   ]
  },
  {
   "cell_type": "code",
   "execution_count": 9,
   "metadata": {},
   "outputs": [],
   "source": [
    "def sum_of_lists(N):\n",
    "    total = 0\n",
    "    for i in range(5):\n",
    "        L = [j^(j>>i) for j in range(N)]\n",
    "        total += sum(L)\n",
    "        return total"
   ]
  },
  {
   "cell_type": "code",
   "execution_count": 10,
   "metadata": {},
   "outputs": [
    {
     "name": "stdout",
     "output_type": "stream",
     "text": [
      " "
     ]
    },
    {
     "name": "stdout",
     "output_type": "stream",
     "text": [
      "         150 function calls (149 primitive calls) in 0.201 seconds\n",
      "\n",
      "   Ordered by: internal time\n",
      "\n",
      "   ncalls  tottime  percall  cumtime  percall filename:lineno(function)\n",
      "        1    0.117    0.117    0.122    0.122 2767362457.py:1(sum_of_lists)\n",
      "        1    0.049    0.049    0.049    0.049 {method 'execute' of 'sqlite3.Connection' objects}\n",
      "      2/1    0.015    0.007    0.124    0.124 {built-in method builtins.exec}\n",
      "        2    0.012    0.006    0.012    0.006 {method '__exit__' of 'sqlite3.Connection' objects}\n",
      "        1    0.005    0.005    0.005    0.005 {built-in method builtins.sum}\n",
      "        1    0.002    0.002    0.124    0.124 <string>:1(<module>)\n",
      "        1    0.000    0.000    0.000    0.000 {method 'disable' of '_lsprof.Profiler' objects}\n",
      "        1    0.000    0.000    0.061    0.061 history.py:833(_writeout_input_cache)\n",
      "        1    0.000    0.000    0.000    0.000 inspect.py:3120(_bind)\n",
      "        1    0.000    0.000    0.000    0.000 threading.py:315(_acquire_restore)\n",
      "        1    0.000    0.000    0.062    0.062 history.py:845(writeout_cache)\n",
      "        2    0.000    0.000    0.000    0.000 traitlets.py:3631(set)\n",
      "        2    0.000    0.000    0.000    0.000 traitlets.py:718(_validate)\n",
      "        1    0.000    0.000    0.000    0.000 traitlets.py:1527(_notify_observers)\n",
      "        6    0.000    0.000    0.000    0.000 traitlets.py:676(__get__)\n",
      "        1    0.000    0.000    0.000    0.000 inspect.py:2934(apply_defaults)\n",
      "        6    0.000    0.000    0.000    0.000 traitlets.py:629(get)\n",
      "        2    0.000    0.000    0.000    0.000 traitlets.py:3624(validate_elements)\n",
      "        1    0.000    0.000    0.000    0.000 decorator.py:199(fix)\n",
      "        2    0.000    0.000    0.000    0.000 traitlets.py:689(set)\n",
      "        2    0.000    0.000    0.000    0.000 traitlets.py:3474(validate)\n",
      "        2    0.000    0.000    0.000    0.000 traitlets.py:727(_cross_validate)\n",
      "        1    0.000    0.000    0.000    0.000 traitlets.py:1512(_notify_trait)\n",
      "        5    0.000    0.000    0.000    0.000 {built-in method builtins.hasattr}\n",
      "        1    0.000    0.000    0.000    0.000 inspect.py:2881(args)\n",
      "        1    0.000    0.000    0.062    0.062 decorator.py:229(fun)\n",
      "        1    0.000    0.000    0.000    0.000 inspect.py:3259(bind)\n",
      "        2    0.000    0.000    0.000    0.000 threading.py:306(__exit__)\n",
      "        1    0.000    0.000    0.000    0.000 traitlets.py:1523(notify_change)\n",
      "        1    0.000    0.000    0.062    0.062 history.py:55(only_when_enabled)\n",
      "        6    0.000    0.000    0.000    0.000 {built-in method builtins.next}\n",
      "        2    0.000    0.000    0.000    0.000 traitlets.py:708(__set__)\n",
      "        2    0.000    0.000    0.000    0.000 traitlets.py:2304(validate)\n",
      "        3    0.000    0.000    0.000    0.000 {method 'acquire' of '_thread.lock' objects}\n",
      "        1    0.000    0.000    0.000    0.000 history.py:839(_writeout_output_cache)\n",
      "        7    0.000    0.000    0.000    0.000 {built-in method builtins.isinstance}\n",
      "        2    0.000    0.000    0.000    0.000 traitlets.py:3486(validate_elements)\n",
      "       22    0.000    0.000    0.000    0.000 typing.py:2367(cast)\n",
      "        1    0.000    0.000    0.000    0.000 threading.py:631(clear)\n",
      "        1    0.000    0.000    0.000    0.000 inspect.py:2904(kwargs)\n",
      "        2    0.000    0.000    0.000    0.000 threading.py:303(__enter__)\n",
      "        4    0.000    0.000    0.000    0.000 {method '__exit__' of '_thread.lock' objects}\n",
      "        4    0.000    0.000    0.000    0.000 {method 'get' of 'dict' objects}\n",
      "        1    0.000    0.000    0.000    0.000 threading.py:312(_release_save)\n",
      "       10    0.000    0.000    0.000    0.000 inspect.py:2791(kind)\n",
      "        1    0.000    0.000    0.000    0.000 {method 'values' of 'mappingproxy' objects}\n",
      "        3    0.000    0.000    0.000    0.000 {method 'items' of 'mappingproxy' objects}\n",
      "        2    0.000    0.000    0.000    0.000 {method '__enter__' of '_thread.lock' objects}\n",
      "        4    0.000    0.000    0.000    0.000 {method 'append' of 'list' objects}\n",
      "        2    0.000    0.000    0.000    0.000 {built-in method builtins.iter}\n",
      "        2    0.000    0.000    0.000    0.000 {method 'extend' of 'list' objects}\n",
      "        2    0.000    0.000    0.000    0.000 {built-in method builtins.len}\n",
      "        1    0.000    0.000    0.000    0.000 threading.py:318(_is_owned)\n",
      "        4    0.000    0.000    0.000    0.000 inspect.py:3074(parameters)\n",
      "        4    0.000    0.000    0.000    0.000 inspect.py:2779(name)\n",
      "        1    0.000    0.000    0.000    0.000 {built-in method _thread.allocate_lock}\n",
      "        1    0.000    0.000    0.000    0.000 {method 'append' of 'collections.deque' objects}\n",
      "        1    0.000    0.000    0.000    0.000 inspect.py:2873(__init__)\n",
      "        1    0.000    0.000    0.000    0.000 {method 'release' of '_thread.lock' objects}"
     ]
    }
   ],
   "source": [
    "%prun sum_of_lists(1000000)"
   ]
  },
  {
   "cell_type": "code",
   "execution_count": 6,
   "metadata": {},
   "outputs": [
    {
     "name": "stdout",
     "output_type": "stream",
     "text": [
      "\u001b[1;31mDocstring:\u001b[0m\n",
      "Run a statement through the python code profiler.\n",
      "\n",
      "**Usage, in line mode:**\n",
      "\n",
      "  %prun [options] statement\n",
      "\n",
      "**Usage, in cell mode:**\n",
      "\n",
      "  %%prun [options] [statement]\n",
      "\n",
      "  code...\n",
      "\n",
      "  code...\n",
      "\n",
      "In cell mode, the additional code lines are appended to the (possibly\n",
      "empty) statement in the first line.  Cell mode allows you to easily\n",
      "profile multiline blocks without having to put them in a separate\n",
      "function.\n",
      "\n",
      "The given statement (which doesn't require quote marks) is run via the\n",
      "python profiler in a manner similar to the profile.run() function.\n",
      "Namespaces are internally managed to work correctly; profile.run\n",
      "cannot be used in IPython because it makes certain assumptions about\n",
      "namespaces which do not hold under IPython.\n",
      "\n",
      "Options:\n",
      "\n",
      "-l <limit>\n",
      "  you can place restrictions on what or how much of the\n",
      "  profile gets printed. The limit value can be:\n",
      "\n",
      "     * A string: only information for function names containing this string\n",
      "       is printed.\n",
      "\n",
      "     * An integer: only these many lines are printed.\n",
      "\n",
      "     * A float (between 0 and 1): this fraction of the report is printed\n",
      "       (for example, use a limit of 0.4 to see the topmost 40% only).\n",
      "\n",
      "  You can combine several limits with repeated use of the option. For\n",
      "  example, ``-l __init__ -l 5`` will print only the topmost 5 lines of\n",
      "  information about class constructors.\n",
      "\n",
      "-r\n",
      "  return the pstats.Stats object generated by the profiling. This\n",
      "  object has all the information about the profile in it, and you can\n",
      "  later use it for further analysis or in other functions.\n",
      "\n",
      "-s <key>\n",
      "  sort profile by given key. You can provide more than one key\n",
      "  by using the option several times: '-s key1 -s key2 -s key3...'. The\n",
      "  default sorting key is 'time'.\n",
      "\n",
      "  The following is copied verbatim from the profile documentation\n",
      "  referenced below:\n",
      "\n",
      "  When more than one key is provided, additional keys are used as\n",
      "  secondary criteria when the there is equality in all keys selected\n",
      "  before them.\n",
      "\n",
      "  Abbreviations can be used for any key names, as long as the\n",
      "  abbreviation is unambiguous.  The following are the keys currently\n",
      "  defined:\n",
      "\n",
      "  ============  =====================\n",
      "  Valid Arg     Meaning\n",
      "  ============  =====================\n",
      "  \"calls\"       call count\n",
      "  \"cumulative\"  cumulative time\n",
      "  \"file\"        file name\n",
      "  \"module\"      file name\n",
      "  \"pcalls\"      primitive call count\n",
      "  \"line\"        line number\n",
      "  \"name\"        function name\n",
      "  \"nfl\"         name/file/line\n",
      "  \"stdname\"     standard name\n",
      "  \"time\"        internal time\n",
      "  ============  =====================\n",
      "\n",
      "  Note that all sorts on statistics are in descending order (placing\n",
      "  most time consuming items first), where as name, file, and line number\n",
      "  searches are in ascending order (i.e., alphabetical). The subtle\n",
      "  distinction between \"nfl\" and \"stdname\" is that the standard name is a\n",
      "  sort of the name as printed, which means that the embedded line\n",
      "  numbers get compared in an odd way.  For example, lines 3, 20, and 40\n",
      "  would (if the file names were the same) appear in the string order\n",
      "  \"20\" \"3\" and \"40\".  In contrast, \"nfl\" does a numeric compare of the\n",
      "  line numbers.  In fact, sort_stats(\"nfl\") is the same as\n",
      "  sort_stats(\"name\", \"file\", \"line\").\n",
      "\n",
      "-T <filename>\n",
      "  save profile results as shown on screen to a text\n",
      "  file. The profile is still shown on screen.\n",
      "\n",
      "-D <filename>\n",
      "  save (via dump_stats) profile statistics to given\n",
      "  filename. This data is in a format understood by the pstats module, and\n",
      "  is generated by a call to the dump_stats() method of profile\n",
      "  objects. The profile is still shown on screen.\n",
      "\n",
      "-q\n",
      "  suppress output to the pager.  Best used with -T and/or -D above.\n",
      "\n",
      "If you want to run complete programs under the profiler's control, use\n",
      "``%run -p [prof_opts] filename.py [args to program]`` where prof_opts\n",
      "contains profiler specific options as described here.\n",
      "\n",
      "You can read the complete documentation for the profile module with::\n",
      "\n",
      "  In [1]: import profile; profile.help()\n",
      "\n",
      ".. versionchanged:: 7.3\n",
      "    User variables are no longer expanded,\n",
      "    the magic line is always left unmodified.\n",
      "\u001b[1;31mFile:\u001b[0m      c:\\users\\chels\\anaconda3\\envs\\emerald_city\\lib\\site-packages\\ipython\\core\\magics\\execution.py"
     ]
    }
   ],
   "source": [
    "%prun?"
   ]
  },
  {
   "cell_type": "code",
   "execution_count": 7,
   "metadata": {},
   "outputs": [],
   "source": [
    "%load_ext line_profiler"
   ]
  },
  {
   "cell_type": "code",
   "execution_count": 15,
   "metadata": {},
   "outputs": [
    {
     "name": "stdout",
     "output_type": "stream",
     "text": [
      "Timer unit: 1e-07 s"
     ]
    }
   ],
   "source": [
    "%lprun -f sum_of_lists(5000)"
   ]
  },
  {
   "cell_type": "markdown",
   "metadata": {},
   "source": [
    "### (5) 메모리 사용 프로파일링\n",
    "- 메모리 사용 프로파일링: %memit\n",
    "- 라인 단위 메모리 사용 프로파일링: %mprun"
   ]
  },
  {
   "cell_type": "code",
   "execution_count": 19,
   "metadata": {},
   "outputs": [],
   "source": [
    "%load_ext memory_profiler"
   ]
  },
  {
   "cell_type": "code",
   "execution_count": 20,
   "metadata": {},
   "outputs": [
    {
     "name": "stdout",
     "output_type": "stream",
     "text": [
      "peak memory: 101.22 MiB, increment: 9.71 MiB\n"
     ]
    }
   ],
   "source": [
    "%memit sum_of_lists(1000000)"
   ]
  },
  {
   "cell_type": "code",
   "execution_count": 5,
   "metadata": {},
   "outputs": [
    {
     "name": "stdout",
     "output_type": "stream",
     "text": [
      "Writing mprun_demo.py\n"
     ]
    }
   ],
   "source": [
    "%%file mprun_demo.py\n",
    "def sum_of_lists(N):\n",
    "    total = 0\n",
    "    for i in range(5):\n",
    "        L = [j^(j>>i) for j in range(N)]\n",
    "        total += sum(L)\n",
    "        del L # L 참조 삭제\n",
    "    return total\n",
    "\n",
    "# 메모리에 대한 라인 단위의 설명을 보려면 %mprun 매직을 사용하면 됨\n",
    "# %mprun 매직을 사용하기 위해서는 별도의 모듈에 정의된 함수에만 동작하기 때문에\n",
    "# 먼저 %%file 매직을 이용해 sum_of_lists 함수를 포함하는 mprun_demo.py라는 모듈을 생성\n",
    "# %%file이 무조건 첫번째 줄에 단독으로 있어야 함"
   ]
  },
  {
   "cell_type": "code",
   "execution_count": 7,
   "metadata": {},
   "outputs": [],
   "source": [
    "%load_ext memory_profiler"
   ]
  },
  {
   "cell_type": "code",
   "execution_count": null,
   "metadata": {},
   "outputs": [
    {
     "name": "stdout",
     "output_type": "stream",
     "text": [
      "\n"
     ]
    },
    {
     "name": "stdout",
     "output_type": "stream",
     "text": [
      "Filename: c:\\workplace\\python-data-science-handbook\\01_IPython\\mprun_demo.py\n",
      "\n",
      "Line #    Mem usage    Increment  Occurrences   Line Contents\n",
      "=============================================================\n",
      "     1     78.3 MiB     78.3 MiB           1   def sum_of_lists(N):\n",
      "     2     78.3 MiB      0.0 MiB           1       total = 0\n",
      "     3     83.4 MiB     -0.2 MiB           6       for i in range(5):\n",
      "     4    118.1 MiB -56905496.8 MiB     5000005           L = [j^(j>>i) for j in range(N)]\n",
      "     5    118.1 MiB      0.0 MiB           5           total += sum(L)\n",
      "     6     83.4 MiB   -147.3 MiB           5           del L # L 참조 삭제\n",
      "     7     83.4 MiB      0.0 MiB           1       return total"
     ]
    }
   ],
   "source": [
    "# 프로그램이 어디서 가장 많은 시간을 보내는지 알 수 있음\n",
    "# 이 정보를 이용해 스크립트를 수정하여 원하는 작업의 성능을 개선할 수 있음\n",
    "from mprun_demo import sum_of_lists\n",
    "%mprun -f sum_of_lists sum_of_lists(1000000)"
   ]
  }
 ],
 "metadata": {
  "kernelspec": {
   "display_name": "emerald_city",
   "language": "python",
   "name": "python3"
  },
  "language_info": {
   "codemirror_mode": {
    "name": "ipython",
    "version": 3
   },
   "file_extension": ".py",
   "mimetype": "text/x-python",
   "name": "python",
   "nbconvert_exporter": "python",
   "pygments_lexer": "ipython3",
   "version": "3.13.1"
  }
 },
 "nbformat": 4,
 "nbformat_minor": 2
}

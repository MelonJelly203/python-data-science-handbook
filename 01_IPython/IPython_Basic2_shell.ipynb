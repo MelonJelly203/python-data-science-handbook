{
 "cells": [
  {
   "cell_type": "markdown",
   "metadata": {},
   "source": [
    "# 아나콘다 가상환경설치\n",
    "\n",
    "- 아나콘다 다운로드\n",
    "셸에 conda create --name (가상환경이름) python=(버전) 이렇게 명령어를 내리기\n",
    "- 가상환경을 설치한 이후에는 이 가상환경의 환경설정과 다른 프로젝트의 환경설정이 분리됨"
   ]
  },
  {
   "cell_type": "markdown",
   "metadata": {},
   "source": [
    "# 셸 명령어\n",
    "- echo\n",
    "- pwd\n",
    "- ls\n",
    "- cd\n",
    "- cd..\n",
    "- mkdir\n",
    "- mv ../test_file.txt ./ (상위 디렉토리의 test 파일을 현재 디렉토리로 이동)"
   ]
  },
  {
   "cell_type": "markdown",
   "metadata": {},
   "source": [
    "# IPython에서의 셸명령어\n",
    "- 윈도우 환경에서는 통하는 것도 있고 아닌 것도 있다\n",
    "- pwd, mkdir, cd 같은 것들은 통한다 "
   ]
  },
  {
   "cell_type": "code",
   "execution_count": 35,
   "metadata": {},
   "outputs": [
    {
     "name": "stdout",
     "output_type": "stream",
     "text": [
      "c:\\workplace\\python-data-science-handbook\\01_IPython\\test_directory\n"
     ]
    }
   ],
   "source": [
    "cd test_directory/"
   ]
  },
  {
   "cell_type": "code",
   "execution_count": 36,
   "metadata": {},
   "outputs": [
    {
     "name": "stdout",
     "output_type": "stream",
     "text": [
      "c:\\workplace\\python-data-science-handbook\\01_IPython\n"
     ]
    }
   ],
   "source": [
    "cd ../"
   ]
  },
  {
   "cell_type": "code",
   "execution_count": 40,
   "metadata": {},
   "outputs": [
    {
     "name": "stdout",
     "output_type": "stream",
     "text": [
      "\"hi\"\n"
     ]
    }
   ],
   "source": [
    "echo \"hi\""
   ]
  },
  {
   "cell_type": "code",
   "execution_count": 26,
   "metadata": {},
   "outputs": [],
   "source": [
    "message = \"hello from Python\""
   ]
  },
  {
   "cell_type": "code",
   "execution_count": 27,
   "metadata": {},
   "outputs": [
    {
     "name": "stdout",
     "output_type": "stream",
     "text": [
      "hello\n",
      "from\n",
      "Python\n"
     ]
    }
   ],
   "source": [
    "# 반대방향, 즉 파이썬 변수를 셸에 전달하는 건 {varname} 구문을 통해 가능능\n",
    "!powershell echo {message}"
   ]
  },
  {
   "cell_type": "code",
   "execution_count": 57,
   "metadata": {},
   "outputs": [],
   "source": [
    "mkdir tmp"
   ]
  }
 ],
 "metadata": {
  "kernelspec": {
   "display_name": "emerald_city",
   "language": "python",
   "name": "python3"
  },
  "language_info": {
   "codemirror_mode": {
    "name": "ipython",
    "version": 3
   },
   "file_extension": ".py",
   "mimetype": "text/x-python",
   "name": "python",
   "nbconvert_exporter": "python",
   "pygments_lexer": "ipython3",
   "version": "3.13.1"
  }
 },
 "nbformat": 4,
 "nbformat_minor": 2
}

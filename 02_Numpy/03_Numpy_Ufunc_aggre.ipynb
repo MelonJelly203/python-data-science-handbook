{
 "cells": [
  {
   "cell_type": "markdown",
   "metadata": {},
   "source": [
    "# Numpy 배열 연산: 유니버설 함수\n",
    "1. 루프는 느리다\n",
    "2. UFuncs 소개\n",
    "3. Numpy 유니버설 함수(UFuncs)\n",
    "4. 고급 UFunc 기능\n",
    "5. 집계: 최솟갑, 최대값, 그리고 그 사이의 모든 것\n",
    "6. 예제: 미국 대통령의 평균 신장은 얼마일까?"
   ]
  },
  {
   "cell_type": "markdown",
   "metadata": {},
   "source": [
    "- Numpy는 데이터 배열을 사용하여 최적화된 연산을 위한 쉽고 유연한 인터페이스 제공\n",
    "- Numpy 배열 연산을 빠르게 만드는 핵심은 벡터화 -> universal function 통해 구현"
   ]
  },
  {
   "cell_type": "markdown",
   "metadata": {},
   "source": [
    "### 1. 루프는 느리다: universal function의 필요성\n",
    "- 파이썬 기본 구현(CPython)에서 몇 가지 연산은 매우 느리게 수행\n",
    "- 부분적으로는 파이썬이 동적인 인터프리터 언어이기 때문\n",
    "- 타입이 유연하다 = 연산이 C나 Fortran에서처럼 효율적인 머신 코드로 컴파일 되기 어려움\n",
    "- 파이썬은 작은 연산이 반복되는 상황에서 확연히 느리다"
   ]
  },
  {
   "cell_type": "markdown",
   "metadata": {},
   "source": [
    "Syntax\n",
    "- numpy.random.randint(low, high=None, size=None, dtype=int)\n",
    "\n",
    "[Summary]\n",
    "- low: The lower bound (inclusive) of the random integers.\n",
    "- high: The upper bound (exclusive) of the random integers. If not provided, the range is [0, low).\n",
    "- size: The shape of the output array. If not provided, a single integer is returned.\n",
    "- dtype: The data type of the output array. Default is int."
   ]
  },
  {
   "cell_type": "code",
   "execution_count": 2,
   "metadata": {},
   "outputs": [
    {
     "name": "stdout",
     "output_type": "stream",
     "text": [
      "7\n",
      "6\n",
      "[9 9 3 2 5]\n",
      "[[9 0 4]\n",
      " [2 8 2]\n",
      " [7 8 8]]\n",
      "[1 9 7 3 7]\n"
     ]
    }
   ],
   "source": [
    "import numpy as np\n",
    "\n",
    "# generate a single random number btw 0(inclusive) and 10(exclusive)\n",
    "random_int = np.random.randint(10)\n",
    "print(random_int)\n",
    "\n",
    "#generate a single random integer bewtween 5(inclusive) and 10 (exclusive)\n",
    "random_int2 = np.random.randint(5,10)\n",
    "print(random_int2)\n",
    "\n",
    "# generate a 1D array containing 5 random integers btw 0(inclusive) and 10(exclusive)\n",
    "random_array = np.random.randint(0,10,size=5)\n",
    "print(random_array)\n",
    "\n",
    "# generate a 2D array containing 3 rows and 3 columns of random integers btw 0(inclusive) and 10(exclusive)\n",
    "random_array2 = np.random.randint(0,10,(3,3))\n",
    "print(random_array2)\n",
    "\n",
    "# speficy data type\n",
    "# generate a 1D array containing 5 random integers between 0(inclusive) and 10(exclusive) with data type int64\n",
    "random_array_dtype = np.random.randint(0,10,size=5, dtype='int64')\n",
    "print(random_array_dtype)"
   ]
  },
  {
   "cell_type": "code",
   "execution_count": 3,
   "metadata": {},
   "outputs": [
    {
     "data": {
      "text/plain": [
       "array([0.16666667, 1.        , 0.25      , 0.25      , 0.125     ])"
      ]
     },
     "execution_count": 3,
     "metadata": {},
     "output_type": "execute_result"
    }
   ],
   "source": [
    "# example. 값으로 이뤄진 배열이 있고 각각의 역수를 계산하려고 한다.\n",
    "\n",
    "np.random.seed(0)\n",
    "def compute_reciprocals(values):\n",
    "    output = np.empty(len(values))\n",
    "    for i in range(len(values)):\n",
    "        output[i] = 1.0 / values[i]\n",
    "    return output\n",
    "\n",
    "\n",
    "values = np.random.randint(1, 10, size=5)\n",
    "compute_reciprocals(values)"
   ]
  },
  {
   "cell_type": "code",
   "execution_count": 4,
   "metadata": {},
   "outputs": [
    {
     "name": "stdout",
     "output_type": "stream",
     "text": [
      "2.44 s ± 230 ms per loop (mean ± std. dev. of 7 runs, 1 loop each)\n"
     ]
    }
   ],
   "source": [
    "# 이 코드는 큰 배열을 다룰 때 매우 느리다. 이유는 반복문을 사용하고 있기 때문이다.\n",
    "# %timeit을 사용해 속도 측정\n",
    "\n",
    "big_array = np.random.randint(1, 100, size = 1000000)\n",
    "%timeit compute_reciprocals(big_array)"
   ]
  },
  {
   "cell_type": "markdown",
   "metadata": {},
   "source": [
    " 병목은 연산 자체에 있는 것이 아니라 CPython이 루프의 사이클마다 수행해야 하는 타입 확인과 함수 디스패치에서 발생함\n",
    "- CPython 사이클: 객체 타입 확인 > 해당 타입에 맞게 사용할 함수 동적 검색 > 이후 연산\n",
    "- 컴파일된 코드로 작업했다면 코드 실행 전 타입을 알았을 것. 결괏값 계산 효율적이었을 것."
   ]
  },
  {
   "cell_type": "markdown",
   "metadata": {},
   "source": [
    "### 2. UFuncs 소개\n",
    "NumPy는 여러 종류의 연산에 대해 정적 타입 체계를 가진 컴파일된 루틴에 편리한 인터페이스 제공\n",
    "- 벡터화 연산: 배열에 연산을 수행해 각 요소에 적용함. 루프를 NumPy의 기저를 이루는 컴파일된 계층으로 밀어넣음으로써 훨씬 빠르게 실행되도록 설계됨 "
   ]
  },
  {
   "cell_type": "code",
   "execution_count": 5,
   "metadata": {},
   "outputs": [
    {
     "name": "stdout",
     "output_type": "stream",
     "text": [
      "[0.16666667 1.         0.25       0.25       0.125     ]\n",
      "[0.16666667 1.         0.25       0.25       0.125     ]\n"
     ]
    }
   ],
   "source": [
    "print(compute_reciprocals(values))\n",
    "print(1.0/values)"
   ]
  },
  {
   "cell_type": "code",
   "execution_count": 6,
   "metadata": {},
   "outputs": [
    {
     "name": "stdout",
     "output_type": "stream",
     "text": [
      "4.02 ms ± 592 μs per loop (mean ± std. dev. of 7 runs, 100 loops each)\n"
     ]
    }
   ],
   "source": [
    "# 파이썬 루프보다 이 실행코드가 수백 배 빠른 속도로 작업을 완료함\n",
    "%timeit (1.0/big_array)"
   ]
  },
  {
   "cell_type": "markdown",
   "metadata": {},
   "source": [
    "- NumPy에서 벡터화 연산은 NumPy 배열의 값에 반복된 연산을 빠르게 수행하는 것을 주목적으로 하는 ufuncs를 통해 구현됨\n",
    "- 유니버설 함수는 매우 유연: 스칼라<>배열, 배열<>배열, 다차원 배열.."
   ]
  },
  {
   "cell_type": "code",
   "execution_count": 7,
   "metadata": {},
   "outputs": [
    {
     "data": {
      "text/plain": [
       "array([0.1       , 0.01190476, 0.04545455, ..., 0.01428571, 0.01098901,\n",
       "       0.01149425])"
      ]
     },
     "execution_count": 7,
     "metadata": {},
     "output_type": "execute_result"
    }
   ],
   "source": [
    "# 스칼라<>배열\n",
    "1.0/big_array"
   ]
  },
  {
   "cell_type": "code",
   "execution_count": 8,
   "metadata": {},
   "outputs": [
    {
     "data": {
      "text/plain": [
       "array([0.        , 0.5       , 0.66666667, 0.75      , 0.8       ])"
      ]
     },
     "execution_count": 8,
     "metadata": {},
     "output_type": "execute_result"
    }
   ],
   "source": [
    "# 배열<>배열\n",
    "np.arange(5)/np.arange(1,6)\n"
   ]
  },
  {
   "cell_type": "markdown",
   "metadata": {},
   "source": [
    "1. True Division (/):\n",
    "Always returns a floating-point result.\n",
    "Preserves the fractional part of the division.\n",
    "\n",
    "2. Floor Division (//):\n",
    "Returns the largest integer less than or equal to the division result.\n",
    "Discards the fractional part of the division."
   ]
  },
  {
   "cell_type": "code",
   "execution_count": 9,
   "metadata": {},
   "outputs": [
    {
     "data": {
      "text/plain": [
       "array([[ 0,  1,  4],\n",
       "       [ 9, 16, 25],\n",
       "       [36, 49, 64]])"
      ]
     },
     "execution_count": 9,
     "metadata": {},
     "output_type": "execute_result"
    }
   ],
   "source": [
    "# 다차원 배열\n",
    "x = np.arange(9).reshape((3,3))\n",
    "x**2"
   ]
  },
  {
   "cell_type": "markdown",
   "metadata": {},
   "source": [
    "### 3. NumPy 유니버설 함수 (UFuncs)\n",
    "- 단항 ufunc:  단일 입력값에 동작\n",
    "- 이항 ufuncs:  두 개의 입력값에 동작"
   ]
  },
  {
   "cell_type": "code",
   "execution_count": 10,
   "metadata": {},
   "outputs": [
    {
     "name": "stdout",
     "output_type": "stream",
     "text": [
      "x     = [0 1 2 3]\n",
      "x + 5 = [5 6 7 8]\n",
      "x - 5 = [-5 -4 -3 -2]\n",
      "x * 2 = [0 2 4 6]\n",
      "x / 2 = [0.  0.5 1.  1.5]\n",
      "x // 2 = [0 0 1 1]\n"
     ]
    }
   ],
   "source": [
    "#배열 산술 연산\n",
    "# NumPy는 기본 산술 연산자를 사용해 배열에 대한 요소별 연산을 수행한다.\n",
    "x = np.arange(4)\n",
    "print(\"x     =\", x)\n",
    "print(\"x + 5 =\", x + 5)\n",
    "print(\"x - 5 =\", x - 5)\n",
    "print(\"x * 2 =\", x * 2)\n",
    "print(\"x / 2 =\", x / 2)\n",
    "print(\"x // 2 =\", x // 2)  # 나눗셈의 몫"
   ]
  },
  {
   "cell_type": "code",
   "execution_count": 11,
   "metadata": {},
   "outputs": [
    {
     "name": "stdout",
     "output_type": "stream",
     "text": [
      "-x    = [ 0 -1 -2 -3]\n",
      "x**2  = [0 1 4 9]\n",
      "x % 2 = [0 1 0 1]\n"
     ]
    }
   ],
   "source": [
    "# 음수를 만드는 단항 연산자 \"-\"\n",
    "# 지수 연산자 \"**\"\n",
    "# 나머지 연산자 \"%\"\n",
    "print(\"-x    =\", -x)\n",
    "print(\"x**2  =\", x**2)\n",
    "print(\"x % 2 =\", x % 2)"
   ]
  },
  {
   "cell_type": "code",
   "execution_count": 12,
   "metadata": {},
   "outputs": [
    {
     "data": {
      "text/plain": [
       "array([-1.  , -2.25, -4.  , -6.25])"
      ]
     },
     "execution_count": 12,
     "metadata": {},
     "output_type": "execute_result"
    }
   ],
   "source": [
    "# 이 연산들은 원하는 만큼 함께 사용할 수 있고 표준 연산 순서를 따른다.\n",
    "-(0.5*x+1)**2"
   ]
  },
  {
   "cell_type": "code",
   "execution_count": 13,
   "metadata": {},
   "outputs": [
    {
     "data": {
      "text/plain": [
       "array([2, 3, 4, 5])"
      ]
     },
     "execution_count": 13,
     "metadata": {},
     "output_type": "execute_result"
    }
   ],
   "source": [
    "# 이 산술연산은 모두 사용상 편의를 위해 NumPy에 내장된 특정 항수를 감싼 것이다.\n",
    "# 예를 들어 + 연산자는 add 함수의 래퍼(wrapper)이다.\n",
    "np.add(x,2)"
   ]
  },
  {
   "cell_type": "raw",
   "metadata": {
    "vscode": {
     "languageId": "raw"
    }
   },
   "source": [
    "연산자     대응 ufuncs     설명\n",
    "+         np.add          덧셈(예를 들어, 1 + 1 = 2)\n",
    "-         np.subtract     뺄셈(예를 들어, 3 - 2 = 1)\n",
    "-         np.negative     단항 음수(예를 들어, -2)\n",
    "*         np.multiply     곱셈(예를 들어, 2 * 3 = 6)\n",
    "/         np.divide       나눗셈(예를 들어, 3 / 2 = 1.5)\n",
    "//        np.floor_divide 나눗셈의 몫(예를 들어, 3 // 2 = 1)\n",
    "**        np.power        지수 연산(예를 들어, 2 ** 3 = 8)\n",
    "%         np.mod         나눗셈의 나머지(예를 들어, 9 % 4 = 1)"
   ]
  },
  {
   "cell_type": "code",
   "execution_count": 14,
   "metadata": {},
   "outputs": [
    {
     "data": {
      "text/plain": [
       "array([2, 1, 0, 1, 2])"
      ]
     },
     "execution_count": 14,
     "metadata": {},
     "output_type": "execute_result"
    }
   ],
   "source": [
    "# 절대값 함수\n",
    "x = np.array([-2, -1, 0, 1, 2])\n",
    "abs(x)"
   ]
  },
  {
   "cell_type": "code",
   "execution_count": 15,
   "metadata": {},
   "outputs": [
    {
     "data": {
      "text/plain": [
       "array([2, 1, 0, 1, 2])"
      ]
     },
     "execution_count": 15,
     "metadata": {},
     "output_type": "execute_result"
    }
   ],
   "source": [
    "np.absolute(x)"
   ]
  },
  {
   "cell_type": "code",
   "execution_count": 16,
   "metadata": {},
   "outputs": [
    {
     "data": {
      "text/plain": [
       "array([2, 1, 0, 1, 2])"
      ]
     },
     "execution_count": 16,
     "metadata": {},
     "output_type": "execute_result"
    }
   ],
   "source": [
    "np.abs(x)"
   ]
  },
  {
   "cell_type": "code",
   "execution_count": 17,
   "metadata": {},
   "outputs": [
    {
     "data": {
      "text/plain": [
       "array([5., 5., 2., 1.])"
      ]
     },
     "execution_count": 17,
     "metadata": {},
     "output_type": "execute_result"
    }
   ],
   "source": [
    "# 이 함수는 복소수 데이터에도 동작한다.\n",
    "# 복소수의 크기는 제곱합의 제곱근이다.\n",
    "x=np.array([3-4j, 4-3j, 2+0j, 0+1j])\n",
    "np.abs(x)"
   ]
  },
  {
   "cell_type": "markdown",
   "metadata": {
    "vscode": {
     "languageId": "raw"
    }
   },
   "source": [
    "- Python에서 허수는 j이다.\n",
    "- 복소수는 a + bj의 형태로 표현한다\n",
    "- In Python, the letter j is used to denote the imaginary part of a complex number. Complex numbers are numbers that have both a real part and an imaginary part. The imaginary unit j is equivalent to the square root of -1.\n",
    "\n",
    "1. Creating a Complex Array:\n",
    "\n",
    "```x = np.array([3-4j, 4-3j, 2+0j, 0+1j])```\n",
    "\n",
    "- This creates a NumPy array x containing complex numbers.\n",
    "> 3-4j represents the complex number with a real part of 3 and an imaginary part of -4.  \n",
    "> 4-3j represents the complex number with a real part of 4 and an imaginary part  of -3.  \n",
    "> 2+0j represents the complex number with a real part of 2 and an imaginary part of 0.  \n",
    "> 0+1j represents the complex number with a real part of 0 and an imaginary part of 1.  \n",
    "\n",
    "2. Calculating the Magnitude (Absolute Value):\n",
    "\n",
    "```np.abs(x)```\n",
    "\n",
    "- The np.abs function computes the magnitude (or absolute value) of each complex number in the array.\n",
    "- The magnitude of a complex number a + bj is calculated as sqrt(a^2 + b^2).\n",
    "\n",
    "> Example Calculation  \n",
    "> For 3-4j:  \n",
    ">\n",
    "> Real part: 3  \n",
    "> Imaginary part: -4  \n",
    "> Magnitude: sqrt(3^2 + (-4)^2) = sqrt(9 + 16) = sqrt(25) = 5  \n",
    "> For 4-3j:  \n",
    ">\n",
    ">Real part: 4  \n",
    ">Imaginary part: -3  \n",
    ">Magnitude: sqrt(4^2 + (-3)^2) = sqrt(16 + 9) = sqrt(25) = 5  \n",
    ">For 2+0j:  \n",
    ">\n",
    ">Real part: 2  \n",
    ">Imaginary part: 0  \n",
    ">Magnitude: sqrt(2^2 + 0^2) = sqrt(4) = 2  \n",
    ">For 0+1j:  \n",
    ">\n",
    ">Real part: 0  \n",
    ">Imaginary part: 1  \n",
    ">Magnitude: sqrt(0^2 + 1^2) = sqrt(1) = 1  \n",
    ">Output  \n",
    ">The output of np.abs(x) will be:  \n",
    "```array([5., 5., 2., 1.])```\n",
    "\n",
    "3. Summary\n",
    "j: Denotes the imaginary part of a complex number in Python.\n",
    "np.abs: Computes the magnitude of each complex number in the array.\n",
    "Magnitude Calculation: For a complex number a + bj, the magnitude is sqrt(a^2 + b^2).\n",
    "\n",
    "4. More Info\n",
    "- 복소수와 허수\n",
    "- https://ko.khanacademy.org/math/algebra2/x2ec2f6f830c9fb89:complex/x2ec2f6f830c9fb89:complex-num/a/intro-to-complex-numbers\n",
    "- https://namu.wiki/w/%ED%97%88%EC%88%98\n",
    "\n",
    "- 행렬과 행렬의 연산\n",
    "- https://sasamath.com/blog/invitation-to-calculus/complex-numbers/\n",
    "- https://recipesds.tistory.com/entry/%EC%84%A0%ED%98%95%EB%8C%80%EC%88%98%EB%9D%BC%EA%B3%A0-%ED%95%98%EA%B8%B0%EC%97%94-%EB%84%88%EB%AC%B4-%EA%B1%B0%EC%B0%BD%ED%95%98%EA%B3%A0-%EA%B0%84%EB%8B%A8%ED%95%9C-%ED%96%89%EB%A0%AC%EA%B3%B1-%EC%A0%95%EB%8F%84%EC%9D%98-%EC%9D%B4%ED%95%B4\n",
    "- https://jinconomics.tistory.com/6"
   ]
  },
  {
   "cell_type": "markdown",
   "metadata": {},
   "source": [
    "##### 삼각함수"
   ]
  },
  {
   "cell_type": "code",
   "execution_count": 20,
   "metadata": {},
   "outputs": [],
   "source": [
    "# Generate theta Values\n",
    "theta = np.linspace(0, np.pi, 3)\n",
    "\n",
    "# np.linspace(start, stop, num) generates num evenly spaced values between\n",
    "# start and stop (inclusive).\n",
    "# Here, np.linspace(0, np.pi, 3) generates 3 values between 0 and π (inclusive)."
   ]
  },
  {
   "cell_type": "code",
   "execution_count": 19,
   "metadata": {},
   "outputs": [
    {
     "name": "stdout",
     "output_type": "stream",
     "text": [
      "theta    = [0.         1.57079633 3.14159265]\n",
      "sin(theta)= [0.0000000e+00 1.0000000e+00 1.2246468e-16]\n",
      "cos(theta)= [ 1.000000e+00  6.123234e-17 -1.000000e+00]\n",
      "tan(theta)= [ 0.00000000e+00  1.63312394e+16 -1.22464680e-16]\n"
     ]
    }
   ],
   "source": [
    "print(\"theta     =\", theta)\n",
    "print(\"sin(theta)=\", np.sin(theta)) # computes the sine of each value in the theta array.\n",
    "print(\"cos(theta)=\", np.cos(theta)) # computes the cosine of each value in the theta array.\n",
    "print(\"tan(theta)=\", np.tan(theta)) # computes the tangent of each value in the theta array."
   ]
  },
  {
   "cell_type": "markdown",
   "metadata": {},
   "source": [
    "#### Trigonometric Functions\n",
    "Trigonometric functions relate the angles of a triangle to the lengths of its sides. They are primarily used in the context of right-angled triangles and are also fundamental in describing periodic phenomena. The main trigonometric functions are:\n",
    "\n",
    ">Sine (sin):  \n",
    ">Definition: In a right-angled triangle, it is the ratio of the length of the opposite side to the hypotenuse.  \n",
    ">Formula: sin(θ) = opposite / hypotenuse  \n",
    "\n",
    ">Cosine (cos):  \n",
    ">Definition: In a right-angled triangle, it is the ratio of the length of the adjacent side to the hypotenuse.  \n",
    ">Formula: cos(θ) = adjacent / hypotenuse  \n",
    "\n",
    ">Tangent (tan):  \n",
    ">Definition: In a right-angled triangle, it is the ratio of the length of the opposite side to the adjacent side.  \n",
    ">Formula: tan(θ) = opposite / adjacent"
   ]
  },
  {
   "cell_type": "code",
   "execution_count": 21,
   "metadata": {},
   "outputs": [
    {
     "name": "stdout",
     "output_type": "stream",
     "text": [
      "x     = [-1, 0, 1]\n",
      "arcsin(x)= [-1.57079633  0.          1.57079633]\n",
      "arccos(x)= [3.14159265 1.57079633 0.        ]\n",
      "arctan(x)= [-0.78539816  0.          0.78539816]\n"
     ]
    }
   ],
   "source": [
    "# 역삼각함수\n",
    "x = [-1, 0, 1]\n",
    "print(\"x     =\", x)\n",
    "print(\"arcsin(x)=\", np.arcsin(x)) # computes the arcsine of each value in the x array.\n",
    "print(\"arccos(x)=\", np.arccos(x)) # computes the arccosine of each value in the x array.\n",
    "print(\"arctan(x)=\", np.arctan(x)) # computes the arctangent of each value in the x array."
   ]
  },
  {
   "cell_type": "markdown",
   "metadata": {},
   "source": [
    "#### Inverse Trigonometric Functions\n",
    "Inverse trigonometric functions are the inverses of the trigonometric functions. They return the angle corresponding to a given trigonometric value. The main inverse trigonometric functions are:  \n",
    "\n",
    ">Arcsine (asin or arcsin):  \n",
    "> Definition: Returns the angle whose sine is a given number.  \n",
    "> Formula: θ = arcsin(x) means sin(θ) = x  \n",
    "\n",
    "> Arccosine (acos or arccos):  \n",
    "> Definition: Returns the angle whose cosine is a given number.  \n",
    "> Formula: θ = arccos(x) means cos(θ) = x  \n",
    "\n",
    "> Arctangent (atan or arctan):  \n",
    ">Definition: Returns the angle whose tangent is a given number.  \n",
    ">Formula: θ = arctan(x) means tan(θ) = x"
   ]
  },
  {
   "cell_type": "markdown",
   "metadata": {},
   "source": [
    "##### 지수와 로그"
   ]
  },
  {
   "cell_type": "code",
   "execution_count": 22,
   "metadata": {},
   "outputs": [
    {
     "name": "stdout",
     "output_type": "stream",
     "text": [
      "X    = [1, 2, 3]\n",
      "e^x  = [ 2.71828183  7.3890561  20.08553692]\n",
      "2^x = [2. 4. 8.]\n",
      "3^x = [ 3  9 27]\n"
     ]
    }
   ],
   "source": [
    "x = [1,2,3]\n",
    "print(\"X    =\", x)\n",
    "print(\"e^x  =\", np.exp(x)) # computes the exponential of each value in the X array.\n",
    "print(\"2^x =\", np.exp2(x))  # computes 2 raised to the power of each value in the x array.\n",
    "print(\"3^x =\", np.power(3,x)) # computes 3 raised to the power of each value in the x array."
   ]
  },
  {
   "cell_type": "markdown",
   "metadata": {},
   "source": [
    "##### Exponential Function\n",
    "The exponential function is a mathematical function denoted by exp(x) or e^x, where e is Euler's number (approximately 2.71828). It is a fundamental function in mathematics with the following properties:  \n",
    "\n",
    ">Growth Rate: The exponential function grows rapidly as x increases.  \n",
    ">Derivative: The derivative of e^x with respect to x is e^x, making it unique among functions.  \n",
    ">Inverse: The natural logarithm function ln(x) is the inverse of the exponential function.\n",
    "\n",
    "> 참고:\n",
    "> https://blog.naver.com/dhkdwnddml/221032980702"
   ]
  },
  {
   "cell_type": "code",
   "execution_count": 24,
   "metadata": {},
   "outputs": [
    {
     "name": "stdout",
     "output_type": "stream",
     "text": [
      "\u001b[1;31mSignature:\u001b[0m       \u001b[0mnp\u001b[0m\u001b[1;33m.\u001b[0m\u001b[0mexp2\u001b[0m\u001b[1;33m(\u001b[0m\u001b[1;33m*\u001b[0m\u001b[0margs\u001b[0m\u001b[1;33m,\u001b[0m \u001b[1;33m**\u001b[0m\u001b[0mkwargs\u001b[0m\u001b[1;33m)\u001b[0m\u001b[1;33m\u001b[0m\u001b[1;33m\u001b[0m\u001b[0m\n",
      "\u001b[1;31mType:\u001b[0m            ufunc\n",
      "\u001b[1;31mString form:\u001b[0m     <ufunc 'exp2'>\n",
      "\u001b[1;31mFile:\u001b[0m            c:\\users\\chels\\anaconda3\\envs\\emerald_city\\lib\\site-packages\\numpy\\__init__.py\n",
      "\u001b[1;31mDocstring:\u001b[0m      \n",
      "exp2(x, /, out=None, *, where=True, casting='same_kind', order='K', dtype=None, subok=True[, signature])\n",
      "\n",
      "Calculate `2**p` for all `p` in the input array.\n",
      "\n",
      "Parameters\n",
      "----------\n",
      "x : array_like\n",
      "    Input values.\n",
      "out : ndarray, None, or tuple of ndarray and None, optional\n",
      "    A location into which the result is stored. If provided, it must have\n",
      "    a shape that the inputs broadcast to. If not provided or None,\n",
      "    a freshly-allocated array is returned. A tuple (possible only as a\n",
      "    keyword argument) must have length equal to the number of outputs.\n",
      "where : array_like, optional\n",
      "    This condition is broadcast over the input. At locations where the\n",
      "    condition is True, the `out` array will be set to the ufunc result.\n",
      "    Elsewhere, the `out` array will retain its original value.\n",
      "    Note that if an uninitialized `out` array is created via the default\n",
      "    ``out=None``, locations within it where the condition is False will\n",
      "    remain uninitialized.\n",
      "**kwargs\n",
      "    For other keyword-only arguments, see the\n",
      "    :ref:`ufunc docs <ufuncs.kwargs>`.\n",
      "\n",
      "Returns\n",
      "-------\n",
      "out : ndarray or scalar\n",
      "    Element-wise 2 to the power `x`.\n",
      "    This is a scalar if `x` is a scalar.\n",
      "\n",
      "See Also\n",
      "--------\n",
      "power\n",
      "\n",
      "Notes\n",
      "-----\n",
      ".. versionadded:: 1.3.0\n",
      "\n",
      "\n",
      "\n",
      "Examples\n",
      "--------\n",
      ">>> import numpy as np\n",
      ">>> np.exp2([2, 3])\n",
      "array([ 4.,  8.])\n",
      "\u001b[1;31mClass docstring:\u001b[0m\n",
      "Functions that operate element by element on whole arrays.\n",
      "\n",
      "To see the documentation for a specific ufunc, use `info`.  For\n",
      "example, ``np.info(np.sin)``.  Because ufuncs are written in C\n",
      "(for speed) and linked into Python with NumPy's ufunc facility,\n",
      "Python's help() function finds this page whenever help() is called\n",
      "on a ufunc.\n",
      "\n",
      "A detailed explanation of ufuncs can be found in the docs for :ref:`ufuncs`.\n",
      "\n",
      "**Calling ufuncs:** ``op(*x[, out], where=True, **kwargs)``\n",
      "\n",
      "Apply `op` to the arguments `*x` elementwise, broadcasting the arguments.\n",
      "\n",
      "The broadcasting rules are:\n",
      "\n",
      "* Dimensions of length 1 may be prepended to either array.\n",
      "* Arrays may be repeated along dimensions of length 1.\n",
      "\n",
      "Parameters\n",
      "----------\n",
      "*x : array_like\n",
      "    Input arrays.\n",
      "out : ndarray, None, or tuple of ndarray and None, optional\n",
      "    Alternate array object(s) in which to put the result; if provided, it\n",
      "    must have a shape that the inputs broadcast to. A tuple of arrays\n",
      "    (possible only as a keyword argument) must have length equal to the\n",
      "    number of outputs; use None for uninitialized outputs to be\n",
      "    allocated by the ufunc.\n",
      "where : array_like, optional\n",
      "    This condition is broadcast over the input. At locations where the\n",
      "    condition is True, the `out` array will be set to the ufunc result.\n",
      "    Elsewhere, the `out` array will retain its original value.\n",
      "    Note that if an uninitialized `out` array is created via the default\n",
      "    ``out=None``, locations within it where the condition is False will\n",
      "    remain uninitialized.\n",
      "**kwargs\n",
      "    For other keyword-only arguments, see the :ref:`ufunc docs <ufuncs.kwargs>`.\n",
      "\n",
      "Returns\n",
      "-------\n",
      "r : ndarray or tuple of ndarray\n",
      "    `r` will have the shape that the arrays in `x` broadcast to; if `out` is\n",
      "    provided, it will be returned. If not, `r` will be allocated and\n",
      "    may contain uninitialized values. If the function has more than one\n",
      "    output, then the result will be a tuple of arrays."
     ]
    }
   ],
   "source": [
    "np.exp2?"
   ]
  },
  {
   "cell_type": "code",
   "execution_count": 25,
   "metadata": {},
   "outputs": [
    {
     "name": "stdout",
     "output_type": "stream",
     "text": [
      "x     = [1, 2, 4, 10]\n",
      "ln(x)  = [0.         0.69314718 1.38629436 2.30258509]\n",
      "log2(x)= [0.         1.         2.         3.32192809]\n",
      "log10(x)= [0.         0.30103    0.60205999 1.        ]\n"
     ]
    }
   ],
   "source": [
    "x = [1,2,4,10]\n",
    "print(\"x     =\", x)\n",
    "print(\"ln(x)  =\", np.log(x)) # computes the natural logarithm of each value in the x array.\n",
    "print(\"log2(x)=\", np.log2(x)) # computes the base-2 logarithm of each value in the x array.\n",
    "print(\"log10(x)=\", np.log10(x)) # computes the base-10 logarithm of each value in the x array."
   ]
  },
  {
   "cell_type": "markdown",
   "metadata": {},
   "source": [
    "#### 특화된 유니버설 함수"
   ]
  },
  {
   "cell_type": "code",
   "execution_count": 43,
   "metadata": {},
   "outputs": [
    {
     "name": "stdout",
     "output_type": "stream",
     "text": [
      "gamma(x)     = [1.0000e+00 2.4000e+01 3.6288e+05]\n",
      "ln|gamma(x)| = [ 0.          3.17805383 12.80182748]\n",
      "beta(x, 2)   = [0.5        0.03333333 0.00909091]\n"
     ]
    }
   ],
   "source": [
    "from scipy import special\n",
    "# Gamma functions (generalized factorials) and related functions\n",
    "x = [1, 5, 10]\n",
    "print(\"gamma(x)     =\", special.gamma(x)) # computes the gamma function of each value in the x array.\n",
    "print(\"ln|gamma(x)| =\", special.gammaln(x)) # computes the natural logarithm of the absolute value of the gamma function of each value in the x array.\n",
    "print(\"beta(x, 2)   =\", special.beta(x, 2)) # computes the beta function of each value in the x array with 2."
   ]
  },
  {
   "cell_type": "code",
   "execution_count": 44,
   "metadata": {},
   "outputs": [
    {
     "name": "stdout",
     "output_type": "stream",
     "text": [
      "erf(x)  = [0.         0.32862676 0.67780119 0.84270079]\n",
      "erfc(x) = [1.         0.67137324 0.32219881 0.15729921]\n",
      "erfinv(x)= [0.         0.27246271 0.73286908        inf]\n"
     ]
    }
   ],
   "source": [
    "# Error function (integral of Gaussian)\n",
    "# its complement, and its inverse\n",
    "x = np.array([0, 0.3, 0.7, 1.0])\n",
    "print(\"erf(x)  =\", special.erf(x)) # computes the error function of each value in the x array.\n",
    "print(\"erfc(x) =\", special.erfc(x)) # computes the complementary error function of each value in the x array.\n",
    "print(\"erfinv(x)=\", special.erfinv(x)) # computes the inverse of the error function for each value in the x array."
   ]
  },
  {
   "cell_type": "markdown",
   "metadata": {},
   "source": [
    "##### 고급 Ufunc 기능\n",
    "- 출력 지정: 대단히 큰 규모의 배열에서는 out 인수를 신중하게 사용해 절약되는 메모리가 크다\n",
    "- 집계\n",
    "- 외적"
   ]
  },
  {
   "cell_type": "code",
   "execution_count": 27,
   "metadata": {},
   "outputs": [
    {
     "name": "stdout",
     "output_type": "stream",
     "text": [
      "[ 0. 10. 20. 30. 40.]\n"
     ]
    }
   ],
   "source": [
    "# 출력지정\n",
    "x = np.arange(5)\n",
    "y = np.empty(5)\n",
    "np.multiply(x, 10, out=y) # 모든 ufunc은 선택적으로 출력 지정을 할 수 있다.\n",
    "print(y)"
   ]
  },
  {
   "cell_type": "code",
   "execution_count": 36,
   "metadata": {},
   "outputs": [
    {
     "name": "stdout",
     "output_type": "stream",
     "text": [
      "[ 1.  0.  2.  0.  4.  0.  8.  0. 16.  0.]\n"
     ]
    }
   ],
   "source": [
    "y = np.zeros(10)\n",
    "np.power(2,x, out=y[0:9:2]) # 배열 슬라이스를 사용해 연산 결과를 지정한 배열의 요소에 저장할 수 있다.\n",
    "print(y)"
   ]
  },
  {
   "cell_type": "code",
   "execution_count": 37,
   "metadata": {},
   "outputs": [
    {
     "data": {
      "text/plain": [
       "np.int64(15)"
      ]
     },
     "execution_count": 37,
     "metadata": {},
     "output_type": "execute_result"
    }
   ],
   "source": [
    "# 집계\n",
    "# 배열을 특정 연산으로 축소하는 것을 집계라고 한다.\n",
    "x = np.arange(1,6)\n",
    "np.add.reduce(x) # 모든 배열 요소의 합을 반환한다."
   ]
  },
  {
   "cell_type": "code",
   "execution_count": 38,
   "metadata": {},
   "outputs": [
    {
     "data": {
      "text/plain": [
       "np.int64(120)"
      ]
     },
     "execution_count": 38,
     "metadata": {},
     "output_type": "execute_result"
    }
   ],
   "source": [
    "np.multiply.reduce(x) # 모든 배열 요소의 곱을 반환한다."
   ]
  },
  {
   "cell_type": "code",
   "execution_count": 39,
   "metadata": {},
   "outputs": [
    {
     "data": {
      "text/plain": [
       "array([ 1,  3,  6, 10, 15])"
      ]
     },
     "execution_count": 39,
     "metadata": {},
     "output_type": "execute_result"
    }
   ],
   "source": [
    "# 계산의 중간 결과를 저장하고 싶다면 accumulate를 사용한다.\n",
    "np.add.accumulate(x)"
   ]
  },
  {
   "cell_type": "code",
   "execution_count": 40,
   "metadata": {},
   "outputs": [
    {
     "data": {
      "text/plain": [
       "array([  1,   2,   6,  24, 120])"
      ]
     },
     "execution_count": 40,
     "metadata": {},
     "output_type": "execute_result"
    }
   ],
   "source": [
    "np.multiply.accumulate(x)"
   ]
  },
  {
   "cell_type": "markdown",
   "metadata": {},
   "source": [
    "#### 외적 (Outer products)"
   ]
  },
  {
   "cell_type": "code",
   "execution_count": 41,
   "metadata": {},
   "outputs": [
    {
     "data": {
      "text/plain": [
       "array([[ 1,  2,  3,  4,  5],\n",
       "       [ 2,  4,  6,  8, 10],\n",
       "       [ 3,  6,  9, 12, 15],\n",
       "       [ 4,  8, 12, 16, 20],\n",
       "       [ 5, 10, 15, 20, 25]])"
      ]
     },
     "execution_count": 41,
     "metadata": {},
     "output_type": "execute_result"
    }
   ],
   "source": [
    "x = np.arange(1,6)\n",
    "np.multiply.outer(x,x) # outer method는 두 입력 배열의 외적을 계산한다."
   ]
  },
  {
   "cell_type": "code",
   "execution_count": null,
   "metadata": {},
   "outputs": [],
   "source": []
  }
 ],
 "metadata": {
  "kernelspec": {
   "display_name": "emerald_city",
   "language": "python",
   "name": "python3"
  },
  "language_info": {
   "codemirror_mode": {
    "name": "ipython",
    "version": 3
   },
   "file_extension": ".py",
   "mimetype": "text/x-python",
   "name": "python",
   "nbconvert_exporter": "python",
   "pygments_lexer": "ipython3",
   "version": "3.13.1"
  }
 },
 "nbformat": 4,
 "nbformat_minor": 2
}

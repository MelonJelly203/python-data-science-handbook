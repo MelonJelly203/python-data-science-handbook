{
 "cells": [
  {
   "cell_type": "markdown",
   "metadata": {},
   "source": [
    "# 설치, 사용법 공부하기\n",
    "- VScode python debugger 설치: https://code.visualstudio.com/docs/python/debugging\n",
    "- copilot\n",
    "- docker"
   ]
  }
 ],
 "metadata": {
  "language_info": {
   "name": "python"
  }
 },
 "nbformat": 4,
 "nbformat_minor": 2
}

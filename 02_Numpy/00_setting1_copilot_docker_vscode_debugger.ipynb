{
 "cells": [
  {
   "cell_type": "markdown",
   "metadata": {},
   "source": [
    "- VScode python debug 설치: https://code.visualstudio.com/docs/python/debugging\n",
    "- copilot, docker 설치, 사용법 공부하기"
   ]
  },
  {
   "cell_type": "markdown",
   "metadata": {},
   "source": []
  }
 ],
 "metadata": {
  "language_info": {
   "name": "python"
  }
 },
 "nbformat": 4,
 "nbformat_minor": 2
}
